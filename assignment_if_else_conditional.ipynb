{
 "cells": [
  {
   "cell_type": "code",
   "execution_count": 3,
   "id": "fa87b231-7d62-49ad-8dda-17f52e7018b6",
   "metadata": {},
   "outputs": [
    {
     "name": "stdin",
     "output_type": "stream",
     "text": [
      "Enter the length in centimeters 0\n"
     ]
    },
    {
     "name": "stdout",
     "output_type": "stream",
     "text": [
      "The length is invalid\n"
     ]
    }
   ],
   "source": [
    "#### Problem-1(Use conditional statements)\n",
    "\n",
    "#Write a program that asks the user to enter a length in centimetres. \n",
    "#If the user enters a negative length, the program should tell the user that the entry is invalid. \n",
    "#Otherwise, the program should convert the length to inches and print out the result. \n",
    "#There are 2.54 centimetres in an inch.\n",
    "\n",
    "length_centi_meters = eval(input('Enter the length in centimeters'))\n",
    "if length_centi_meters > 0:\n",
    "    length_inches = round(length_centi_meters * 2.54, 2)\n",
    "    print(f\"Length in inches:{length_inches}\")\n",
    "else:\n",
    "    print(f\"The length is invalid\")\n",
    "    \n"
   ]
  },
  {
   "cell_type": "code",
   "execution_count": 15,
   "id": "8a26cb3d-c1f8-4169-b135-0b572c50de60",
   "metadata": {},
   "outputs": [
    {
     "name": "stdin",
     "output_type": "stream",
     "text": [
      "Enter the temparature in centi grades or Fahrenheit heat\n",
      "(Example :C for centi grade, F for Fahrenheit)\n",
      " C\n",
      "Enter the outside temprature 40\n"
     ]
    },
    {
     "name": "stdout",
     "output_type": "stream",
     "text": [
      "Temparature 40 centi grade in fahrenheit is : 104.0\n"
     ]
    }
   ],
   "source": [
    "#### Problem-2(Use conditional statements)\n",
    "#Ask the user for a temperature. Then ask them what units, Celsius or Fahrenheit, the\n",
    "#temperature is in. Your program should convert the temperature to the other unit. \n",
    "#The conversions are F = 9 5 C +32 and C = 5 9 (F − 32).\n",
    "\n",
    "temp_centi_foreign_heat = input('Enter the temparature in centi grades or Fahrenheit heat\\n(Example :C for centi grade, F for Fahrenheit)\\n')\n",
    "if temp_centi_foreign_heat == 'C' or temp_centi_foreign_heat == 'F':\n",
    "    if temp_centi_foreign_heat == 'C' or temp_centi_foreign_heat == 'centi grade':\n",
    "        temp_type = 'C'\n",
    "    elif temp_centi_foreign_heat == 'F'  or temp_centi_foreign_heat == 'Fahrenheit':\n",
    "        temp_type = 'F'\n",
    "    temparature = eval(input(f'Enter the outside temprature'))\n",
    "    if temp_type == 'C':\n",
    "        temp_fahrenheit = round(temparature * 9/5, 2) + 32\n",
    "        print(f'Temparature {temparature} centi grade in fahrenheit is : {temp_fahrenheit}')\n",
    "    elif temp_type == 'F':\n",
    "        temp_centi_grade = round((temparature - 32)*5/9 , 2)\n",
    "        print(f'Temparature {temparature} fahrenheit in centi grade is : {temp_centi_grade}')\n",
    "    else:\n",
    "        print(f'Invalid value')\n",
    "else:\n",
    "    print('Invalid type, enter the temparature type C for centi grade or F for Fahrenheit only')"
   ]
  },
  {
   "cell_type": "code",
   "execution_count": 31,
   "id": "e3753770-3840-4a7f-baf3-9f3fe2083140",
   "metadata": {},
   "outputs": [
    {
     "name": "stdin",
     "output_type": "stream",
     "text": [
      "Enter the temparature in centi grade: 105\n"
     ]
    },
    {
     "name": "stdout",
     "output_type": "stream",
     "text": [
      "The temperature is above the boiling point\n"
     ]
    }
   ],
   "source": [
    "#### Problem-3(Use conditional statements)\n",
    "#Ask the user to enter a temperature in Celsius. \n",
    "#The program should print a message based on the temperature:\n",
    "    #• If the temperature is less than -273.15, print that the temperature is invalid because it is below absolute zero.\n",
    "    #• If it is exactly -273.15, print that the temperature is absolute 0.\n",
    "    #• If the temperature is between -273.15 and 0, print that the temperature is below freezing. \n",
    "    #• If it is 0, print that the temperature is at the freezing point.\n",
    "    #• If it is between 0 and 100, print that the temperature is in the normal range. \n",
    "    #• If it is 100, print that the temperature is at the boiling point.\n",
    "    #• If it is above 100, print that the temperature is above the boiling point.\n",
    "\n",
    "temparature = eval(input('Enter the temparature in centi grade:'))\n",
    "if temparature < -273.15:\n",
    "    print(f'The temperature is invalid because it is below absolute zero')\n",
    "elif temparature == -273.15:\n",
    "    print(f'The temperature is absolute 0')\n",
    "elif temparature > -273.15 and temparature < 0:\n",
    "    print(f'The temperature is below freezing')\n",
    "elif temparature >= 0 and temparature < 100:\n",
    "    print(f'The temperature is in the normal range')\n",
    "elif temparature == 100:\n",
    "    print(f'The temperature is at the boiling point')\n",
    "elif temparature > 100:\n",
    "    print(f'The temperature is above the boiling point')\n"
   ]
  },
  {
   "cell_type": "code",
   "execution_count": 37,
   "id": "9c12c5d2-589c-409b-bfd2-a96a02b08410",
   "metadata": {},
   "outputs": [
    {
     "name": "stdin",
     "output_type": "stream",
     "text": [
      "Enter the credits  84\n"
     ]
    },
    {
     "name": "stdout",
     "output_type": "stream",
     "text": [
      "The student is a senior\n"
     ]
    }
   ],
   "source": [
    "#Write a program that asks the user how many credits they have taken. \n",
    "#If they have taken 23 or less, print that the student is a freshman. \n",
    "#If they have taken between 24 and 53, print that they are asophomore. \n",
    "# The range for juniors is 54 to 83, and for seniors it is 84 and over.\n",
    "\n",
    "credits_score = eval(input('Enter the credits '))\n",
    "if credits_score <=23:\n",
    "    print(f\"The student is a freshman\")\n",
    "elif credits_score >=24 and credits_score <= 53:\n",
    "    print(f\"The student is a asophomore\")\n",
    "elif credits_score >=54 and credits_score <= 83:\n",
    "    print(f\"The student is a junior\")\n",
    "elif credits_score >=84:\n",
    "    print(f\"The student is a senior\")\n"
   ]
  },
  {
   "cell_type": "code",
   "execution_count": 44,
   "id": "8bf1d59d-cd79-4c38-aff4-8b621056ab08",
   "metadata": {},
   "outputs": [
    {
     "name": "stdin",
     "output_type": "stream",
     "text": [
      "Enter the number  9\n"
     ]
    },
    {
     "name": "stdout",
     "output_type": "stream",
     "text": [
      "The guess number is not right\n"
     ]
    }
   ],
   "source": [
    "#Generate a random number between 1 and 10. \n",
    "#Ask the user to guess the number and print a message based on whether they get it right or not.\n",
    "import random\n",
    "random_number = random.randint(1, 10)\n",
    "guess_number = eval(input('Enter the number '))\n",
    "if random_number == guess_number:\n",
    "    print(f'The guess number is correct')\n",
    "else:\n",
    "    print(f'The guess number is not right')\n"
   ]
  },
  {
   "cell_type": "code",
   "execution_count": 48,
   "id": "87287499-7a29-44a4-80e8-76fcbc1ca57e",
   "metadata": {},
   "outputs": [
    {
     "name": "stdin",
     "output_type": "stream",
     "text": [
      "Enter the number of items to buy the customer: 100\n"
     ]
    },
    {
     "name": "stdout",
     "output_type": "stream",
     "text": [
      "The total cost for the 100:: 700\n"
     ]
    }
   ],
   "source": [
    "#A store charges $12 per item if you buy less than 10 items. \n",
    "#If you buy between 10 and 99 items, the cost is $10 per item. \n",
    "#If you buy 100 or more items, the cost is $7 per item. \n",
    "#Write a program that asks the user how many items they are buying and prints the total cost.\n",
    "number_of_items = eval(input('Enter the number of items to buy the customer:'))\n",
    "if number_of_items < 10:\n",
    "    print(f'The total cost for the {number_of_items}: {12 * number_of_items}')\n",
    "elif number_of_items >= 10 and number_of_items <= 99:\n",
    "    print(f'The total cost for the {number_of_items}: {10 * number_of_items}')\n",
    "elif number_of_items >= 100:\n",
    "    print(f'The total cost for the {number_of_items}:: {7 * number_of_items}')"
   ]
  },
  {
   "cell_type": "code",
   "execution_count": 52,
   "id": "fe03002c-f207-44e9-b836-04e50d9206f7",
   "metadata": {},
   "outputs": [
    {
     "name": "stdin",
     "output_type": "stream",
     "text": [
      "Enter the first number: 9.89\n",
      "Enter the second number: 9.881\n"
     ]
    },
    {
     "name": "stdout",
     "output_type": "stream",
     "text": [
      "0.009\n"
     ]
    }
   ],
   "source": [
    "#Write a program that asks the user for two numbers and prints Close if the\n",
    "#numbers are within .001of each other and Not close otherwise.\n",
    "import math\n",
    "number1 = eval(input('Enter the first number:'))\n",
    "number2 = eval(input('Enter the second number:'))\n",
    "close_value = round(math.fabs(number1 - number2), 3)\n",
    "print(f'{close_value}')\n",
    "if close_value <= 0.001:\n",
    "    print(f'{number1} and {number2} are within range of 0.001: Close')\n",
    "else:\n",
    "    print(f'{number1} and {number2} are not within range of 0.001: Not close')\n"
   ]
  },
  {
   "cell_type": "code",
   "execution_count": 64,
   "id": "0f49957d-6e6a-4109-be49-f2be00474c4e",
   "metadata": {},
   "outputs": [
    {
     "name": "stdin",
     "output_type": "stream",
     "text": [
      "Enter the year 2020\n"
     ]
    },
    {
     "name": "stdout",
     "output_type": "stream",
     "text": [
      "The give year(2020) is leap year\n"
     ]
    }
   ],
   "source": [
    "#A year is a leap year if it is divisible by 4, except that years divisible by 100 are not leap years unless\n",
    "#they are also divisible by 400. Write a program that asks the user for a year and prints out whether it is a leap year or not.\n",
    "\n",
    "year = int(input('Enter the year'))\n",
    "if year % 100 == 0 and year % 400 == 0:\n",
    "    print(f'The give year({year}) is leap year')\n",
    "elif year % 100 != 0 and year%4 == 0:\n",
    "    print(f'The give year({year}) is leap year')\n",
    "else:\n",
    "    print(f'The give year({year}) is not a leap year')\n"
   ]
  },
  {
   "cell_type": "code",
   "execution_count": 80,
   "id": "f143ad89-b2ef-4964-b357-455754a89bf4",
   "metadata": {},
   "outputs": [
    {
     "name": "stdin",
     "output_type": "stream",
     "text": [
      "Enter the number 51\n"
     ]
    },
    {
     "name": "stdout",
     "output_type": "stream",
     "text": [
      "divisors: \n",
      "1 3 17 51\n"
     ]
    }
   ],
   "source": [
    "#Write a program that asks the user to enter a number and prints out all the divisors of that number. \n",
    "#[Hint: the % operator is used to tell if a number is divisible by something.\n",
    "\n",
    "number = int(input('Enter the number'))\n",
    "range_number = int(number/2)\n",
    "divisors = ''\n",
    "print('divisors: ')\n",
    "for i in range(1, range_number+1):\n",
    "    if number % i == 0:\n",
    "        print(f'{i}', end= ' ')\n",
    "print(f'{number}')"
   ]
  },
  {
   "cell_type": "code",
   "execution_count": 90,
   "id": "2211ae68-5301-4a45-8238-ae5b3d7603fb",
   "metadata": {},
   "outputs": [
    {
     "name": "stdin",
     "output_type": "stream",
     "text": [
      "Enter the hour 10\n",
      "Enter am for 1, pm for 2 1\n",
      "Enter the hours ahead 6\n"
     ]
    },
    {
     "name": "stdout",
     "output_type": "stream",
     "text": [
      "\n",
      "New hour: 4 pm\n"
     ]
    }
   ],
   "source": [
    "#Write a program that asks the user for an hour between 1 and 12, asks them to enter am or pm, \n",
    "#and asks them how many hours into the future they want to go.\n",
    "#Print out what the hour will be that many hours into the future, printing am or pm as appropriate. An example is shown below.\n",
    "#Enter hour: 8\n",
    "#am (1) or pm (2)? 1\n",
    "#How many hours ahead? 5\n",
    "#New hour: 1 pm\n",
    "hours = int(input('Enter the hour'))\n",
    "am_pm = int(input('Enter am for 1, pm for 2'))\n",
    "ahead_hours= int(input('Enter the hours ahead'))\n",
    "hours_set = 12\n",
    "\n",
    "if am_pm == 1:\n",
    "    if hours + ahead_hours < 12:\n",
    "        new_hours = str(hours + ahead_hours) + ' am'\n",
    "    else:\n",
    "        new_hours = str((hours + ahead_hours) % 12) + ' pm'\n",
    "elif am_pm == 2:\n",
    "    if hours + ahead_hours < 12:\n",
    "        new_hours = str(hours + ahead_hours) + ' pm'\n",
    "    else:\n",
    "        new_hours = str((hours + ahead_hours) % 12) + ' am'\n",
    "    \n",
    "print(f\"\\nNew hour: {new_hours}\")\n",
    "\n"
   ]
  },
  {
   "cell_type": "code",
   "execution_count": null,
   "id": "367d889c-88d5-424c-ad0b-0655ba958fb3",
   "metadata": {},
   "outputs": [],
   "source": []
  }
 ],
 "metadata": {
  "kernelspec": {
   "display_name": "Python 3 (ipykernel)",
   "language": "python",
   "name": "python3"
  },
  "language_info": {
   "codemirror_mode": {
    "name": "ipython",
    "version": 3
   },
   "file_extension": ".py",
   "mimetype": "text/x-python",
   "name": "python",
   "nbconvert_exporter": "python",
   "pygments_lexer": "ipython3",
   "version": "3.11.7"
  }
 },
 "nbformat": 4,
 "nbformat_minor": 5
}
