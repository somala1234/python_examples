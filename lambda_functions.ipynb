{
 "cells": [
  {
   "cell_type": "code",
   "execution_count": null,
   "id": "e74bac68-bd03-41bb-ac7c-d48c8faee7d0",
   "metadata": {},
   "outputs": [],
   "source": [
    "- Lambda function \n",
    "\n",
    "    -Lambda function is a function\n",
    "    \n",
    "    - It is a kind of single line function\n",
    "\n",
    "    - We already seen list comphersion which means single line\n",
    "\n",
    "    - lambda functions give a flexibility to stop many lines on \n",
    "   \n",
    "    - on iterative execution, it will save the timing.\n",
    "    "
   ]
  },
  {
   "cell_type": "code",
   "execution_count": 1,
   "id": "56b74b10-2a99-4540-b1b1-df20224dfbbd",
   "metadata": {},
   "outputs": [
    {
     "data": {
      "text/plain": [
       "100"
      ]
     },
     "execution_count": 1,
     "metadata": {},
     "output_type": "execute_result"
    }
   ],
   "source": [
    "add = lambda n1 : n1 * n1\n",
    "add(10)"
   ]
  },
  {
   "cell_type": "markdown",
   "id": "0e36b6b2-a233-4abb-9d6d-d19446940975",
   "metadata": {},
   "source": []
  },
  {
   "cell_type": "code",
   "execution_count": null,
   "id": "cf03a0c8-a469-4920-8f5d-f7bf2aee4d14",
   "metadata": {},
   "outputs": [],
   "source": []
  },
  {
   "cell_type": "code",
   "execution_count": 2,
   "id": "756d5cfa-fc32-4c84-84b8-6e55e0add1b7",
   "metadata": {},
   "outputs": [
    {
     "data": {
      "text/plain": [
       "30"
      ]
     },
     "execution_count": 2,
     "metadata": {},
     "output_type": "execute_result"
    }
   ],
   "source": [
    "add = lambda n1, n2 : n1 + n2\n",
    "add(10,20)"
   ]
  },
  {
   "cell_type": "code",
   "execution_count": 3,
   "id": "66da7186-4d5c-482b-afe2-6f671880665e",
   "metadata": {},
   "outputs": [
    {
     "data": {
      "text/plain": [
       "17.67"
      ]
     },
     "execution_count": 3,
     "metadata": {},
     "output_type": "execute_result"
    }
   ],
   "source": [
    "avg = lambda n1, n2, n3 : round((n1+n2+n3)/3, 2)\n",
    "\n",
    "avg(10, 21, 22)"
   ]
  },
  {
   "cell_type": "code",
   "execution_count": null,
   "id": "34699fb9-3d82-4122-a02c-7ecbad09301e",
   "metadata": {},
   "outputs": [],
   "source": [
    "Default arguments:\n"
   ]
  },
  {
   "cell_type": "code",
   "execution_count": 4,
   "id": "eee3a829-1f73-4a6a-8670-e288a8e0c30e",
   "metadata": {},
   "outputs": [
    {
     "data": {
      "text/plain": [
       "43.33"
      ]
     },
     "execution_count": 4,
     "metadata": {},
     "output_type": "execute_result"
    }
   ],
   "source": [
    "def avg(n1, n2, n3=100):\n",
    "    return round((n1+n2+n3)/3,2)\n",
    "\n",
    "avg(10,20)"
   ]
  },
  {
   "cell_type": "code",
   "execution_count": 5,
   "id": "a7286389-4664-40e1-b83d-4db88cec2b4b",
   "metadata": {},
   "outputs": [
    {
     "data": {
      "text/plain": [
       "43"
      ]
     },
     "execution_count": 5,
     "metadata": {},
     "output_type": "execute_result"
    }
   ],
   "source": [
    "avg = lambda n1, n2, n3=100 : round((n1+n2+n3)/3)\n",
    "avg(10, 20)"
   ]
  },
  {
   "cell_type": "raw",
   "id": "786051b6-d4ce-4c11-8199-fe3fe75cc676",
   "metadata": {},
   "source": [
    "$Pattern-4$"
   ]
  },
  {
   "cell_type": "code",
   "execution_count": 8,
   "id": "fd02b13b-548c-496f-bf9e-a09cbe00ece5",
   "metadata": {},
   "outputs": [
    {
     "data": {
      "text/plain": [
       "'hello'"
      ]
     },
     "execution_count": 8,
     "metadata": {},
     "output_type": "execute_result"
    }
   ],
   "source": [
    "def greet(n1):\n",
    "    if n1 > 10:\n",
    "        return 'hello'\n",
    "\n",
    "greet(20)"
   ]
  },
  {
   "cell_type": "code",
   "execution_count": null,
   "id": "0202b517-6eba-4153-a4c7-b62a62c63d0b",
   "metadata": {},
   "outputs": [],
   "source": [
    "greet = lambda "
   ]
  },
  {
   "cell_type": "code",
   "execution_count": null,
   "id": "b8e39d44-8624-411f-a5a7-fa2bdbbdbe68",
   "metadata": {},
   "outputs": [],
   "source": [
    "In the list comphrenshion, \n",
    "#[<if_output> <for_loop> <if_condition>]\n",
    "\n",
    "#No for loop\n",
    "\n",
    "#<fun_name> = lambda <arg1> : <if_out> <if_condition>\n"
   ]
  },
  {
   "cell_type": "code",
   "execution_count": 12,
   "id": "d9bc8ade-3902-4a50-9598-99c758020e20",
   "metadata": {},
   "outputs": [
    {
     "data": {
      "text/plain": [
       "'bye'"
      ]
     },
     "execution_count": 12,
     "metadata": {},
     "output_type": "execute_result"
    }
   ],
   "source": [
    "greet = lambda n1 : 'hello' if n1>10 else 'bye'\n",
    "\n",
    "greet(5)"
   ]
  },
  {
   "cell_type": "code",
   "execution_count": 13,
   "id": "e9bbf46b-39aa-40b8-a359-b84ce0e053c3",
   "metadata": {},
   "outputs": [
    {
     "data": {
      "text/plain": [
       "20"
      ]
     },
     "execution_count": 13,
     "metadata": {},
     "output_type": "execute_result"
    }
   ],
   "source": [
    "#WAP lambda function to identify the greatest number between two numbers\n",
    "\n",
    "max_number = lambda n1, n2 : n1 if n1>n2 else n2\n",
    "max_number(15,20)"
   ]
  },
  {
   "cell_type": "code",
   "execution_count": null,
   "id": "8a067c78-2fe7-4af9-ba24-327401db0981",
   "metadata": {},
   "outputs": [],
   "source": [
    "Pattern-5 : using list\n",
    "\n",
    "- What is the variable name --> i\n",
    "\n",
    "- What is the return output --> i.capitalize()\n",
    "\n",
    "- from where it is coming -->list1\n",
    "\n",
    "\n",
    "lambda <variable_name> : <output>, <iterator>\n",
    "\n",
    "Strings are iterables\n",
    "\n",
    "Lists are iterables\n",
    "\n",
    "We can iterate using for loop"
   ]
  },
  {
   "cell_type": "code",
   "execution_count": null,
   "id": "ffa1e9cd-c28b-4855-ba1c-65125a28ccad",
   "metadata": {},
   "outputs": [],
   "source": []
  },
  {
   "cell_type": "code",
   "execution_count": 14,
   "id": "e3a04a6c-ea5a-4c21-b9ca-fee6e58c3545",
   "metadata": {},
   "outputs": [
    {
     "name": "stdout",
     "output_type": "stream",
     "text": [
      "['Hyderabad', 'Bangalore', 'Chennai', 'Kolkatha']\n"
     ]
    }
   ],
   "source": [
    "list1 = ['hyderabad', 'bangalore', 'chennai', 'kolkatha']\n",
    "#op = list2 = ['Hyderabad', 'Bangalore', 'Chennai', 'Kolkatha']\n",
    "list2=[]\n",
    "for i in list1:\n",
    "    list2.append(i.title())\n",
    "print(list2)\n",
    "\n",
    "lambda i : i.capitalize(), list1 \n"
   ]
  },
  {
   "cell_type": "code",
   "execution_count": null,
   "id": "baaf0b88-e6e8-4f4a-84e2-5091dcf8d24c",
   "metadata": {},
   "outputs": [],
   "source": [
    "maxx=lambda n1,n2: f\"{n2} is greater\" if n2>n1 else f\"{n1} is greater\"\n",
    "maxx(10,20)"
   ]
  },
  {
   "cell_type": "code",
   "execution_count": null,
   "id": "e922bc43-840d-4dbf-837a-cfc3056a0ee4",
   "metadata": {},
   "outputs": [],
   "source": []
  },
  {
   "cell_type": "code",
   "execution_count": null,
   "id": "43d23db5-faa2-41d0-ade4-a68fed55658c",
   "metadata": {},
   "outputs": [],
   "source": [
    "'hi how are you' ==== > 'Hi How Are You'  --> Title\n",
    "                ===== > 'Hi how are you'  ---> Captilize\n",
    "                ====== > 'HI HOW ARE YOU' ---> Upper\n",
    "                ====== > 'hi how are you' ---> Lower\n",
    "                ====== > '***hi how are you**' --> Center"
   ]
  },
  {
   "cell_type": "code",
   "execution_count": 17,
   "id": "dd90312e-ad0e-4cc8-a0ef-2e27571c1561",
   "metadata": {},
   "outputs": [
    {
     "data": {
      "text/plain": [
       "['HYDERABAD', 'BANGALORE', 'CHENNAI', 'KOLKATHA']"
      ]
     },
     "execution_count": 17,
     "metadata": {},
     "output_type": "execute_result"
    }
   ],
   "source": [
    "list1 = ['hyderabad', 'bangalore', 'chennai', 'kolkatha']\n",
    "list(map(lambda i : i.upper(), list1))"
   ]
  },
  {
   "cell_type": "code",
   "execution_count": null,
   "id": "b0ba8048-a957-499c-b40b-f5586c8b223b",
   "metadata": {},
   "outputs": [],
   "source": [
    "#step-1 : Create a lambda function\n",
    "#   : lambda <arg> : <output>\n",
    "\n",
    "#step-2 : add the iterable\n",
    "#      : lambda <arg> : <output>, <list>\n",
    "\n",
    "#step-3 : map the both function and list\n",
    "#        : map(lambda <i> : <output>, <list>)\n",
    "\n",
    "#step-4 : Save the result in a tuple or list\n",
    "#   list(map(lambda <i> : <output>, <list>))"
   ]
  },
  {
   "cell_type": "code",
   "execution_count": null,
   "id": "68a6396e-b971-40f6-a431-c75186657029",
   "metadata": {},
   "outputs": [],
   "source": [
    "lambda i : i.capitalize() #fish\n",
    "lambda i : i.capitalize(), list1 #net\n",
    "map(lambda i : i.capitalize(), list1) #fish, net\n",
    "list(map(lambda i : i.capitalize(), list1)) #catch the fish"
   ]
  },
  {
   "cell_type": "code",
   "execution_count": 20,
   "id": "48c472c3-a612-4d6b-a2a9-f5fb2c2e223a",
   "metadata": {},
   "outputs": [
    {
     "name": "stdout",
     "output_type": "stream",
     "text": [
      "['Hyderabad', 'Bangalore', 'Chennai', 'Kolkatha', 'che#nnai', 'mum#bai', 'che#nnai', 'mum#bai']\n"
     ]
    },
    {
     "data": {
      "text/plain": [
       "['che#nnai', 'mum#bai']"
      ]
     },
     "execution_count": 20,
     "metadata": {},
     "output_type": "execute_result"
    }
   ],
   "source": [
    "list1 = ['hyd', 'blr', 'che#nnai', 'mum#bai']\n",
    "#list2 = ['che#nnai', 'mum#bai]\n",
    "\n",
    "for i in list1:\n",
    "    if '#' in i:\n",
    "        list2.append(i)\n",
    "\n",
    "print(list2)\n",
    "        \n",
    "\n",
    "list(filter(lambda i : '#' in i, list1))\n",
    "\n"
   ]
  },
  {
   "cell_type": "code",
   "execution_count": null,
   "id": "5ad00f59-fafb-44e9-808d-ad6bf8d5c87a",
   "metadata": {},
   "outputs": [],
   "source": [
    "list1 = "
   ]
  },
  {
   "cell_type": "code",
   "execution_count": null,
   "id": "bf25eb9d-84bd-4cf9-a8b5-3ae9aba3fdae",
   "metadata": {},
   "outputs": [],
   "source": []
  }
 ],
 "metadata": {
  "kernelspec": {
   "display_name": "Python 3 (ipykernel)",
   "language": "python",
   "name": "python3"
  },
  "language_info": {
   "codemirror_mode": {
    "name": "ipython",
    "version": 3
   },
   "file_extension": ".py",
   "mimetype": "text/x-python",
   "name": "python",
   "nbconvert_exporter": "python",
   "pygments_lexer": "ipython3",
   "version": "3.11.7"
  }
 },
 "nbformat": 4,
 "nbformat_minor": 5
}
